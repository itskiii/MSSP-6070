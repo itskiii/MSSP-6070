{
  "nbformat": 4,
  "nbformat_minor": 0,
  "metadata": {
    "colab": {
      "provenance": []
    },
    "kernelspec": {
      "name": "python3",
      "display_name": "Python 3"
    },
    "language_info": {
      "name": "python"
    }
  },
  "cells": [
    {
      "cell_type": "code",
      "execution_count": 1,
      "metadata": {
        "colab": {
          "base_uri": "https://localhost:8080/"
        },
        "id": "MN74IVOtfqpv",
        "outputId": "31593068-f114-447a-efd0-68fceffd3ab1"
      },
      "outputs": [
        {
          "output_type": "stream",
          "name": "stdout",
          "text": [
            "[2, 4, 'hello', 8, 10]\n"
          ]
        }
      ],
      "source": [
        "# 2.\n",
        "# Part 2a: Create a variable called 'spam'\n",
        "spam = [2, 4, 6, 8, 10]\n",
        "\n",
        "# Part 2b: Assign 'hello' as the third value in spam\n",
        "spam[2] = 'hello'\n",
        "\n",
        "# Print to confirm\n",
        "print(spam)"
      ]
    },
    {
      "cell_type": "code",
      "source": [
        "# 3.\n",
        "# Part 3a: Create a variable called 'letters'\n",
        "letters = ['a', 'b', 'c', 'd']\n",
        "\n",
        "# Part 3b: letters[int(int('3'*2)//11)]\n",
        "result1 = letters[int(int('3'*2)//11)]\n",
        "print(result1)\n",
        "# Explanation: '3'*2 -> '33', int('33') = 33, 33//11 = 3, so index = 3. letters[3] = 'd'.\n",
        "\n",
        "# Part 3c: letters[-1]\n",
        "result2 = letters[-1]\n",
        "print(result2)\n",
        "# Explanation: Negative index -1 means the last element, so result is 'd'.\n",
        "\n",
        "# Part 3d: letters[:2]\n",
        "result3 = letters[:2]\n",
        "print(result3)\n",
        "# Explanation: [:2] means from start up to (but not including) index 2, so ['a', 'b']."
      ],
      "metadata": {
        "colab": {
          "base_uri": "https://localhost:8080/"
        },
        "id": "1VygYZzVgOgK",
        "outputId": "ab54ea20-bdac-4813-9f31-b68c94dc6de2"
      },
      "execution_count": 2,
      "outputs": [
        {
          "output_type": "stream",
          "name": "stdout",
          "text": [
            "d\n",
            "d\n",
            "['a', 'b']\n"
          ]
        }
      ]
    },
    {
      "cell_type": "code",
      "source": [
        "# 4.\n",
        "# Convert list to tuple\n",
        "my_list = [1, 2, 3]\n",
        "my_tuple = tuple(my_list)\n",
        "print(\"Tuple form of list:\", my_tuple)\n",
        "\n",
        "# Convert tuple to list\n",
        "tuple_to_convert = (4, 5, 6)\n",
        "list_from_tuple = list(tuple_to_convert)\n",
        "print(\"List from tuple:\", list_from_tuple)"
      ],
      "metadata": {
        "colab": {
          "base_uri": "https://localhost:8080/"
        },
        "id": "eQH-1Rn3g7MG",
        "outputId": "6f6a5761-3253-468c-8fae-51bc2ae8d477"
      },
      "execution_count": 4,
      "outputs": [
        {
          "output_type": "stream",
          "name": "stdout",
          "text": [
            "Tuple form of list: (1, 2, 3)\n",
            "List from tuple: [4, 5, 6]\n"
          ]
        }
      ]
    },
    {
      "cell_type": "code",
      "source": [
        "# 5.\n",
        "def comma_code(items):\n",
        "    if len(items) == 0:\n",
        "        return ''\n",
        "    elif len(items) == 1:\n",
        "        return str(items[0])\n",
        "    else:\n",
        "        return ', '.join(str(x) for x in items[:-1]) + ', and ' + str(items[-1])\n",
        "\n",
        "# Example\n",
        "spam = ['apples', 'bananas', 'tofu', 'cats']\n",
        "print(comma_code(spam))"
      ],
      "metadata": {
        "colab": {
          "base_uri": "https://localhost:8080/"
        },
        "id": "ksPujw_wh3GM",
        "outputId": "07502261-5102-4ee2-9674-e5e1723e241a"
      },
      "execution_count": 6,
      "outputs": [
        {
          "output_type": "stream",
          "name": "stdout",
          "text": [
            "apples, bananas, tofu, and cats\n"
          ]
        }
      ]
    }
  ]
}