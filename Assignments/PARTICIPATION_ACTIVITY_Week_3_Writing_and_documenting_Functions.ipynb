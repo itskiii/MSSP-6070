{
  "nbformat": 4,
  "nbformat_minor": 0,
  "metadata": {
    "colab": {
      "provenance": []
    },
    "kernelspec": {
      "name": "python3",
      "display_name": "Python 3"
    },
    "language_info": {
      "name": "python"
    }
  },
  "cells": [
    {
      "cell_type": "code",
      "execution_count": 2,
      "metadata": {
        "colab": {
          "base_uri": "https://localhost:8080/"
        },
        "id": "vbr-vGh79_Xq",
        "outputId": "d5d40fb9-18e4-434e-cc2e-3ab2d4bd3897"
      },
      "outputs": [
        {
          "output_type": "stream",
          "name": "stdout",
          "text": [
            "This code only runs when the function is called.\n"
          ]
        }
      ],
      "source": [
        "# a.\n",
        "# Functions are only executed when they are CALLED, not when they are defined.\n",
        "\n",
        "def example_function():\n",
        "    print(\"This code only runs when the function is called.\")\n",
        "\n",
        "# Defining the function does not run it\n",
        "# Calling it executes the code inside:\n",
        "example_function()"
      ]
    },
    {
      "cell_type": "code",
      "source": [
        "# b.\n",
        "# - There is always exactly ONE global scope in a Python program.\n",
        "# - Local scopes are created whenever a function is called, so there can be many.\n",
        "\n",
        "x = \"global variable\"  # in global scope\n",
        "\n",
        "def test_scope():\n",
        "    y = \"local variable\"  # in local scope\n",
        "    print(\"Inside function:\", y)\n",
        "\n",
        "test_scope()\n",
        "print(\"Outside function:\", x)"
      ],
      "metadata": {
        "colab": {
          "base_uri": "https://localhost:8080/"
        },
        "id": "tEMWAb7T-QlT",
        "outputId": "a1ff063d-abf8-413f-9b07-b5d4adf31a51"
      },
      "execution_count": 4,
      "outputs": [
        {
          "output_type": "stream",
          "name": "stdout",
          "text": [
            "Inside function: local variable\n",
            "Outside function: global variable\n"
          ]
        }
      ]
    },
    {
      "cell_type": "code",
      "source": [
        "# c.\n",
        "# Local variables are destroyed once the function ends.\n",
        "# They only exist during the function call.\n",
        "\n",
        "def local_scope_demo():\n",
        "    z = 100  # local variable\n",
        "    print(\"Inside function, z =\", z)\n",
        "\n",
        "local_scope_demo()\n",
        "\n",
        "# Trying to access z outside will cause an error:\n",
        "try:\n",
        "    print(z)\n",
        "except NameError:\n",
        "    print(\"Error: Variable 'z' is not defined outside the function.\")"
      ],
      "metadata": {
        "colab": {
          "base_uri": "https://localhost:8080/"
        },
        "id": "dJjG-i7m-s6V",
        "outputId": "48383ddb-d407-488f-f67b-1ea01df6a87b"
      },
      "execution_count": 7,
      "outputs": [
        {
          "output_type": "stream",
          "name": "stdout",
          "text": [
            "Inside function, z = 100\n",
            "Error: Variable 'z' is not defined outside the function.\n"
          ]
        }
      ]
    },
    {
      "cell_type": "code",
      "source": [
        "# d.\n",
        "# Use try/except blocks to catch errors and handle them gracefully.\n",
        "\n",
        "try:\n",
        "    num = int(\"not a number\")  # this will cause ValueError\n",
        "except ValueError:\n",
        "    print(\"Caught an error! Cannot convert to int.\")"
      ],
      "metadata": {
        "colab": {
          "base_uri": "https://localhost:8080/"
        },
        "id": "dbK9Xp7J_MrE",
        "outputId": "c1df58b3-5921-4bc4-b2e1-dbed3ade97ef"
      },
      "execution_count": 8,
      "outputs": [
        {
          "output_type": "stream",
          "name": "stdout",
          "text": [
            "Caught an error! Cannot convert to int.\n"
          ]
        }
      ]
    },
    {
      "cell_type": "code",
      "source": [
        "# 5.\n",
        "# The Collatz sequence project:\n",
        "# - If number is even: divide it by 2\n",
        "# - If number is odd: multiply by 3 and add 1\n",
        "# - Repeat until reaching 1\n",
        "\n",
        "def collatz(number):\n",
        "    if number % 2 == 0:        # even\n",
        "        return number // 2\n",
        "    else:                      # odd\n",
        "        return 3 * number + 1\n",
        "\n",
        "# Main program\n",
        "try:\n",
        "    n = int(input(\"Enter an integer: \"))\n",
        "    while n != 1:\n",
        "        n = collatz(n)\n",
        "        print(n)\n",
        "except ValueError:\n",
        "    print(\"Please enter a valid integer.\")"
      ],
      "metadata": {
        "id": "Qw53_FzO_dIK"
      },
      "execution_count": null,
      "outputs": []
    }
  ]
}