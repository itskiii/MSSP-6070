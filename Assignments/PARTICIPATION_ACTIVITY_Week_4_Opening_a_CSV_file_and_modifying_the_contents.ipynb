{
  "nbformat": 4,
  "nbformat_minor": 0,
  "metadata": {
    "colab": {
      "provenance": []
    },
    "kernelspec": {
      "name": "python3",
      "display_name": "Python 3"
    },
    "language_info": {
      "name": "python"
    }
  },
  "cells": [
    {
      "cell_type": "code",
      "execution_count": 2,
      "metadata": {
        "id": "vnIj2hxDNgoO"
      },
      "outputs": [],
      "source": [
        "import pandas as pd\n",
        "df = pd.read_csv('parsed.csv')"
      ]
    },
    {
      "cell_type": "code",
      "source": [
        "# a.\n",
        "japan = df[(df['place'].str.contains(\"Japan\", case=False, na=False)) & (df['magType'] == 'mb')]\n",
        "print(\"95th percentile in Japan (mb):\", japan['mag'].quantile(0.95))"
      ],
      "metadata": {
        "colab": {
          "base_uri": "https://localhost:8080/"
        },
        "id": "Qr553CDjN52t",
        "outputId": "5750a28d-a287-4172-dd18-9eed14eac83c"
      },
      "execution_count": 3,
      "outputs": [
        {
          "output_type": "stream",
          "name": "stdout",
          "text": [
            "95th percentile in Japan (mb): 4.9\n"
          ]
        }
      ]
    },
    {
      "cell_type": "code",
      "source": [
        "# b.\n",
        "indo = df[df['place'].str.contains(\"Indonesia\", case=False, na=False)]\n",
        "perc_tsunami = (indo['tsunami'].sum() / len(indo)) * 100\n",
        "print(\"Percentage Indonesia quakes with tsunami:\", perc_tsunami)"
      ],
      "metadata": {
        "colab": {
          "base_uri": "https://localhost:8080/"
        },
        "id": "W9bdPd5GOEsl",
        "outputId": "ce50c004-28a9-451a-eb7f-3d69818494b9"
      },
      "execution_count": 4,
      "outputs": [
        {
          "output_type": "stream",
          "name": "stdout",
          "text": [
            "Percentage Indonesia quakes with tsunami: 23.12925170068027\n"
          ]
        }
      ]
    },
    {
      "cell_type": "code",
      "source": [
        "# c.\n",
        "nevada = df[df['place'].str.contains(\"Nevada\", case=False, na=False)]\n",
        "print(\"Nevada summary stats:\")\n",
        "print(nevada['mag'].describe())"
      ],
      "metadata": {
        "id": "FTrI4JnDOlyD",
        "outputId": "84e116f3-8806-4cb7-a11e-45f6c89f4d22",
        "colab": {
          "base_uri": "https://localhost:8080/"
        }
      },
      "execution_count": 5,
      "outputs": [
        {
          "output_type": "stream",
          "name": "stdout",
          "text": [
            "Nevada summary stats:\n",
            "count    677.000000\n",
            "mean       0.491728\n",
            "std        0.689560\n",
            "min       -0.500000\n",
            "25%       -0.100000\n",
            "50%        0.400000\n",
            "75%        0.900000\n",
            "max        2.900000\n",
            "Name: mag, dtype: float64\n"
          ]
        }
      ]
    },
    {
      "cell_type": "code",
      "source": [
        "# d.\n",
        "rof_list = [\"Bolivia\",\"Chile\",\"Ecuador\",\"Peru\",\"Costa Rica\",\"Guatemala\",\"Mexico\",\"Japan\",\n",
        "            \"Philippines\",\"Indonesia\",\"New Zealand\",\"Antarctica\",\"Canada\",\"Fiji\",\"Alaska\",\n",
        "            \"Washington\",\"California\",\"Russia\",\"Taiwan\",\"Tonga\",\"Kermadec\"]\n",
        "\n",
        "def check_rof(x):\n",
        "    if pd.isna(x):\n",
        "        return False\n",
        "    x = x.lower()\n",
        "    if \"new mexico\" in x:  # avoid false match\n",
        "        return False\n",
        "    for loc in rof_list:\n",
        "        if loc.lower() in x:\n",
        "            return True\n",
        "    return False\n",
        "\n",
        "df['RingOfFire'] = df['place'].apply(check_rof)"
      ],
      "metadata": {
        "id": "jDCKF6eAatuX"
      },
      "execution_count": 6,
      "outputs": []
    },
    {
      "cell_type": "code",
      "source": [
        "# e.\n",
        "print(\"In Ring of Fire:\", df['RingOfFire'].sum())\n",
        "print(\"Outside Ring of Fire:\", len(df) - df['RingOfFire'].sum())"
      ],
      "metadata": {
        "colab": {
          "base_uri": "https://localhost:8080/"
        },
        "id": "q5mZmEJBbES1",
        "outputId": "c923b55d-f065-4813-fcc7-80ff9696b1f8"
      },
      "execution_count": 7,
      "outputs": [
        {
          "output_type": "stream",
          "name": "stdout",
          "text": [
            "In Ring of Fire: 4422\n",
            "Outside Ring of Fire: 4910\n"
          ]
        }
      ]
    },
    {
      "cell_type": "code",
      "source": [
        "# f.\n",
        "print(\"Tsunami count in Ring of Fire:\", df[df['RingOfFire']]['tsunami'].sum())"
      ],
      "metadata": {
        "colab": {
          "base_uri": "https://localhost:8080/"
        },
        "id": "ylyxHD8qbJRl",
        "outputId": "febc0cff-ad08-42bf-e817-f4104423ae1c"
      },
      "execution_count": 8,
      "outputs": [
        {
          "output_type": "stream",
          "name": "stdout",
          "text": [
            "Tsunami count in Ring of Fire: 43\n"
          ]
        }
      ]
    }
  ]
}