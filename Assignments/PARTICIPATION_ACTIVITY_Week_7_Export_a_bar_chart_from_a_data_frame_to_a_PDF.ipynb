{
  "nbformat": 4,
  "nbformat_minor": 0,
  "metadata": {
    "colab": {
      "provenance": []
    },
    "kernelspec": {
      "name": "python3",
      "display_name": "Python 3"
    },
    "language_info": {
      "name": "python"
    }
  },
  "cells": [
    {
      "cell_type": "code",
      "source": [
        "# Import required libraries\n",
        "import pandas as pd\n",
        "import matplotlib.pyplot as plt"
      ],
      "metadata": {
        "id": "R_REA7nvRdko"
      },
      "execution_count": 1,
      "outputs": []
    },
    {
      "cell_type": "code",
      "source": [
        "# Load the dataset\n",
        "df = pd.read_csv('InternetSales.csv', encoding='latin1')"
      ],
      "metadata": {
        "colab": {
          "base_uri": "https://localhost:8080/"
        },
        "id": "5evmHNFBReJX",
        "outputId": "c0ace981-b221-454f-acac-97b9f3955203"
      },
      "execution_count": 5,
      "outputs": [
        {
          "output_type": "stream",
          "name": "stderr",
          "text": [
            "/tmp/ipython-input-3579264031.py:2: DtypeWarning: Columns (14) have mixed types. Specify dtype option on import or set low_memory=False.\n",
            "  df = pd.read_csv('InternetSales.csv', encoding='latin1')\n"
          ]
        }
      ]
    },
    {
      "cell_type": "code",
      "source": [
        "# Display first few rows\n",
        "print(df.head())\n",
        "\n",
        "# Show column names\n",
        "print(\"\\nColumns:\", df.columns.tolist())"
      ],
      "metadata": {
        "colab": {
          "base_uri": "https://localhost:8080/"
        },
        "id": "kYduecmmSRi9",
        "outputId": "edde159c-f166-4e64-d4ea-a4e02ad80d6c"
      },
      "execution_count": 6,
      "outputs": [
        {
          "output_type": "stream",
          "name": "stdout",
          "text": [
            "   ID  CustomerKey  GeographyKey         City CountryRegionCode  \\\n",
            "0   0        11000            26  Rockhampton                AU   \n",
            "1   1        11000            26  Rockhampton                AU   \n",
            "2   2        11000            26  Rockhampton                AU   \n",
            "3   3        11000            26  Rockhampton                AU   \n",
            "4   4        11000            26  Rockhampton                AU   \n",
            "\n",
            "  EnglishCountryRegionName CustomerAlternateKey Title FirstName MiddleName  \\\n",
            "0                Australia           AW00011000   NaN       Jon          V   \n",
            "1                Australia           AW00011000   NaN       Jon          V   \n",
            "2                Australia           AW00011000   NaN       Jon          V   \n",
            "3                Australia           AW00011000   NaN       Jon          V   \n",
            "4                Australia           AW00011000   NaN       Jon          V   \n",
            "\n",
            "   ... ProductStandardCost  TotalProductCost SalesAmount    TaxAmt  Freight  \\\n",
            "0  ...           1912.1544         1912.1544     3399.99  271.9992  84.9998   \n",
            "1  ...           1265.6195         1265.6195     2319.99  185.5992  57.9998   \n",
            "2  ...              8.2205            8.2205       21.98    1.7584   0.5495   \n",
            "3  ...           1481.9379         1481.9379     2384.07  190.7256  59.6018   \n",
            "4  ...             10.8423           10.8423       28.99    2.3192   0.7248   \n",
            "\n",
            "  CarrierTrackingNumber CustomerPONumber  OrderDate    DueDate   ShipDate  \n",
            "0                   NaN              NaN  1/19/2011  1/31/2011  1/26/2011  \n",
            "1                   NaN              NaN  1/18/2013  1/30/2013  1/25/2013  \n",
            "2                   NaN              NaN  1/18/2013  1/30/2013  1/25/2013  \n",
            "3                   NaN              NaN   5/3/2013  5/15/2013  5/10/2013  \n",
            "4                   NaN              NaN   5/3/2013  5/15/2013  5/10/2013  \n",
            "\n",
            "[5 rows x 60 columns]\n",
            "\n",
            "Columns: ['ID', 'CustomerKey', 'GeographyKey', 'City', 'CountryRegionCode', 'EnglishCountryRegionName', 'CustomerAlternateKey', 'Title', 'FirstName', 'MiddleName', 'LastName', 'NameStyle', 'BirthDate', 'MaritalStatus', 'Suffix', 'Gender', 'EmailAddress', 'YearlyIncome', 'TotalChildren', 'NumberChildrenAtHome', 'EnglishEducation', 'SpanishEducation', 'FrenchEducation', 'EnglishOccupation', 'SpanishOccupation', 'FrenchOccupation', 'HouseOwnerFlag', 'NumberCarsOwned', 'AddressLine1', 'AddressLine2', 'Phone', 'DateFirstPurchase', 'CommuteDistance', 'ProductKey', 'EnglishProductName', 'OrderDateKey', 'DueDateKey', 'ShipDateKey', 'CustomerKey.1', 'PromotionKey', 'CurrencyKey', 'SalesTerritoryKey', 'SalesOrderNumber', 'SalesOrderLineNumber', 'RevisionNumber', 'OrderQuantity', 'UnitPrice', 'ExtendedAmount', 'UnitPriceDiscountPct', 'DiscountAmount', 'ProductStandardCost', 'TotalProductCost', 'SalesAmount', 'TaxAmt', 'Freight', 'CarrierTrackingNumber', 'CustomerPONumber', 'OrderDate', 'DueDate', 'ShipDate']\n"
          ]
        }
      ]
    },
    {
      "cell_type": "code",
      "source": [
        "# Ensure OrderDate is recognized as a date\n",
        "df['OrderDate'] = pd.to_datetime(df['OrderDate'], errors='coerce')\n",
        "\n",
        "# Drop rows where OrderDate or SalesAmount is missing\n",
        "df = df.dropna(subset=['OrderDate', 'SalesAmount'])\n",
        "\n",
        "# Extract year from OrderDate\n",
        "df['Year'] = df['OrderDate'].dt.year\n",
        "\n",
        "# Group by year and calculate total sales\n",
        "yearly_sales = df.groupby('Year')['SalesAmount'].sum().reset_index()\n",
        "\n",
        "# Sort by year\n",
        "yearly_sales = yearly_sales.sort_values('Year')\n",
        "\n",
        "print(\"\\nYearly Sales Summary:\")\n",
        "print(yearly_sales)"
      ],
      "metadata": {
        "colab": {
          "base_uri": "https://localhost:8080/"
        },
        "id": "qSOoj3uYYkrZ",
        "outputId": "dd1f1679-a030-4b50-885d-776c9cce4f29"
      },
      "execution_count": 7,
      "outputs": [
        {
          "output_type": "stream",
          "name": "stdout",
          "text": [
            "\n",
            "Yearly Sales Summary:\n",
            "   Year   SalesAmount\n",
            "0  2010  4.342104e+04\n",
            "1  2011  7.075526e+06\n",
            "2  2012  5.842485e+06\n",
            "3  2013  1.635155e+07\n",
            "4  2014  4.569472e+04\n"
          ]
        }
      ]
    },
    {
      "cell_type": "code",
      "source": [
        "# --- Create the Bar Chart ---\n",
        "plt.figure(figsize=(8,5))\n",
        "plt.bar(yearly_sales['Year'], yearly_sales['SalesAmount'], color='skyblue')\n",
        "plt.title('Yearly Internet Sales')\n",
        "plt.xlabel('Year')\n",
        "plt.ylabel('Total Sales ($)')\n",
        "plt.grid(axis='y', linestyle='--', alpha=0.7)\n",
        "plt.tight_layout()\n",
        "\n",
        "# --- Save to PDF ---\n",
        "plt.savefig('Yearly_Sales_BarChart.pdf')\n",
        "\n",
        "# --- Show the chart ---\n",
        "plt.show()"
      ],
      "metadata": {
        "colab": {
          "base_uri": "https://localhost:8080/",
          "height": 507
        },
        "id": "UQelrVkOYlO3",
        "outputId": "dd25cf5a-5e64-4db6-f309-884ef5dda1ee"
      },
      "execution_count": 8,
      "outputs": [
        {
          "output_type": "display_data",
          "data": {
            "text/plain": [
              "<Figure size 800x500 with 1 Axes>"
            ],
            "image/png": "[encoded data removed]"
          },
          "metadata": {}
        }
      ]
    }
  ]
}