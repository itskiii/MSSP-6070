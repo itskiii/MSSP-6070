{
  "cells": [
    {
      "cell_type": "markdown",
      "metadata": {
        "id": "qtPq2X4fwyaJ"
      },
      "source": [
        "# Coding exercises\n",
        "Exercises 1-3 are thought exercises that don't require coding.\n",
        "\n",
        "1. Explore the Jupyter Lab interface and look at some of the shortcuts available. Don't worry about memorizing them now (eventually they will become second nature and save you a lot of time), just get comfortable using notebooks.\n",
        "\n",
        "2. Are all data normally distributed?\n",
        "\n",
        "3. When would it make more sense to use the median instead of the mean for the measure of center?"
      ]
    },
    {
      "cell_type": "code",
      "source": [
        "#2. Not all data are normally distributed. In reality, data comes with different distribution and patterns.\n",
        "#3. Median makes more sense when the dataset contains outliers or it is skewed."
      ],
      "metadata": {
        "id": "B0tx_wsvOLSG"
      },
      "execution_count": null,
      "outputs": []
    },
    {
      "cell_type": "markdown",
      "metadata": {
        "id": "i3u1Ry-fwyaL"
      },
      "source": [
        "## Exercise 4: Generate the data by running this cell\n",
        "This will give you a list of numbers to work with in the remaining exercises."
      ]
    },
    {
      "cell_type": "code",
      "execution_count": 1,
      "metadata": {
        "colab": {
          "base_uri": "https://localhost:8080/"
        },
        "id": "KztVRxckwyaM",
        "outputId": "1655a380-9c80-4c5c-afcc-2ca1ee4a4912"
      },
      "outputs": [
        {
          "output_type": "stream",
          "name": "stdout",
          "text": [
            "[844000.0, 758000.0, 421000.0, 259000.0, 511000.0, 405000.0, 784000.0, 303000.0, 477000.0, 583000.0, 908000.0, 505000.0, 282000.0, 756000.0, 618000.0, 251000.0, 910000.0, 983000.0, 810000.0, 902000.0, 310000.0, 730000.0, 899000.0, 684000.0, 472000.0, 101000.0, 434000.0, 611000.0, 913000.0, 967000.0, 477000.0, 865000.0, 260000.0, 805000.0, 549000.0, 14000.0, 720000.0, 399000.0, 825000.0, 668000.0, 1000.0, 494000.0, 868000.0, 244000.0, 325000.0, 870000.0, 191000.0, 568000.0, 239000.0, 968000.0, 803000.0, 448000.0, 80000.0, 320000.0, 508000.0, 933000.0, 109000.0, 551000.0, 707000.0, 547000.0, 814000.0, 540000.0, 964000.0, 603000.0, 588000.0, 445000.0, 596000.0, 385000.0, 576000.0, 290000.0, 189000.0, 187000.0, 613000.0, 657000.0, 477000.0, 90000.0, 758000.0, 877000.0, 923000.0, 842000.0, 898000.0, 923000.0, 541000.0, 391000.0, 705000.0, 276000.0, 812000.0, 849000.0, 895000.0, 590000.0, 950000.0, 580000.0, 451000.0, 660000.0, 996000.0, 917000.0, 793000.0, 82000.0, 613000.0, 486000.0]\n"
          ]
        }
      ],
      "source": [
        "import random\n",
        "random.seed(0)\n",
        "salaries = [round(random.random()*1000000, -3) for _ in range(100)]\n",
        "print(list(salaries))"
      ]
    },
    {
      "cell_type": "markdown",
      "metadata": {
        "id": "8zdwXMRowyaN"
      },
      "source": [
        "## Exercise 5: Calculating statistics and verifying\n",
        "\n",
        "Use the data generated above to calulate in code the following statistics without importing the statistics module. Then use the statistics module to verify your results.  Import the statistics module from https://docs.python.org/3/library/statistics.html\n",
        "\n",
        "### mean"
      ]
    },
    {
      "cell_type": "code",
      "execution_count": 6,
      "metadata": {
        "colab": {
          "base_uri": "https://localhost:8080/"
        },
        "id": "j5IILqDFwyaO",
        "outputId": "42f46411-b9e7-4497-aebc-d4990a586a6f"
      },
      "outputs": [
        {
          "output_type": "stream",
          "name": "stdout",
          "text": [
            "585690.0\n",
            "585690.0\n"
          ]
        }
      ],
      "source": [
        "mean = sum(salaries) / len(salaries)\n",
        "print(mean)\n",
        "\n",
        "import statistics\n",
        "print(statistics.mean(salaries))"
      ]
    },
    {
      "cell_type": "markdown",
      "metadata": {
        "id": "a5eOq8hEwyaO"
      },
      "source": [
        "### median"
      ]
    },
    {
      "cell_type": "code",
      "execution_count": 11,
      "metadata": {
        "colab": {
          "base_uri": "https://localhost:8080/"
        },
        "id": "wsZoZ6UtwyaO",
        "outputId": "80437950-1d66-43ec-91a1-1f37c6f6e6d8"
      },
      "outputs": [
        {
          "output_type": "stream",
          "name": "stdout",
          "text": [
            "589000.0\n",
            "589000.0\n"
          ]
        }
      ],
      "source": [
        "n = len(sorted(salaries))\n",
        "if n % 2 == 1:\n",
        "    # Odd case\n",
        "    median = sorted(salaries)[n // 2]\n",
        "else:\n",
        "    # Even case\n",
        "    mid1 = sorted(salaries)[n // 2 - 1]\n",
        "    mid2 = sorted(salaries)[n // 2]\n",
        "    median = (mid1 + mid2) / 2\n",
        "\n",
        "print(median)\n",
        "\n",
        "import statistics\n",
        "print(statistics.median(salaries))"
      ]
    },
    {
      "cell_type": "markdown",
      "metadata": {
        "id": "gw5jq-9lwyaP"
      },
      "source": [
        "### mode"
      ]
    },
    {
      "cell_type": "code",
      "execution_count": 13,
      "metadata": {
        "colab": {
          "base_uri": "https://localhost:8080/"
        },
        "id": "xkCY8ex4wyaP",
        "outputId": "c1e125ae-c6c7-40ea-d78d-4467621142ae"
      },
      "outputs": [
        {
          "output_type": "stream",
          "name": "stdout",
          "text": [
            "477000.0\n"
          ]
        },
        {
          "output_type": "execute_result",
          "data": {
            "text/plain": [
              "477000.0"
            ]
          },
          "metadata": {},
          "execution_count": 13
        }
      ],
      "source": [
        "mode = max(set(salaries), key=salaries.count)\n",
        "print(mode)\n",
        "\n",
        "import statistics\n",
        "statistics.mode(salaries)"
      ]
    },
    {
      "cell_type": "markdown",
      "metadata": {
        "id": "Y8ISZ6XGwyaP"
      },
      "source": [
        "### sample variance\n",
        "Remember to use Bessel's correction."
      ]
    },
    {
      "cell_type": "code",
      "execution_count": 14,
      "metadata": {
        "colab": {
          "base_uri": "https://localhost:8080/"
        },
        "id": "1hipsN5owyaP",
        "outputId": "079fc5cf-90f0-437c-9469-cf646526bd0d"
      },
      "outputs": [
        {
          "output_type": "stream",
          "name": "stdout",
          "text": [
            "70664054444.44444\n",
            "70664054444.44444\n"
          ]
        }
      ],
      "source": [
        "variance = sum((x - mean) ** 2 for x in salaries) / (len(salaries) - 1)\n",
        "print(variance)\n",
        "\n",
        "import statistics\n",
        "print(statistics.variance(salaries))"
      ]
    },
    {
      "cell_type": "markdown",
      "metadata": {
        "id": "7ANDl_YxwyaQ"
      },
      "source": [
        "### sample standard deviation\n",
        "Remember to use Bessel's correction."
      ]
    },
    {
      "cell_type": "code",
      "execution_count": 16,
      "metadata": {
        "colab": {
          "base_uri": "https://localhost:8080/"
        },
        "id": "Y4ez3kXzwyaQ",
        "outputId": "b81420d6-f2fc-4e77-8411-20a29d226f78"
      },
      "outputs": [
        {
          "output_type": "stream",
          "name": "stdout",
          "text": [
            "265827.11382484\n",
            "265827.11382484\n"
          ]
        }
      ],
      "source": [
        "standard_deviation = variance ** 0.5\n",
        "print(standard_deviation)\n",
        "\n",
        "import statistics\n",
        "print(statistics.stdev(salaries))"
      ]
    },
    {
      "cell_type": "markdown",
      "metadata": {
        "id": "K3MDU1uBwyaR"
      },
      "source": [
        "## Exercise 6: Calculating more statistics\n",
        "### range"
      ]
    },
    {
      "cell_type": "code",
      "execution_count": 18,
      "metadata": {
        "colab": {
          "base_uri": "https://localhost:8080/"
        },
        "id": "SF5q27rvwyaR",
        "outputId": "a483f5ed-1c65-4c98-c373-4e7602e500f8"
      },
      "outputs": [
        {
          "output_type": "stream",
          "name": "stdout",
          "text": [
            "995000.0\n"
          ]
        }
      ],
      "source": [
        "range = max(salaries) - min(salaries)\n",
        "print(range)"
      ]
    },
    {
      "cell_type": "markdown",
      "metadata": {
        "id": "AHB0zbn5wyaR"
      },
      "source": [
        "### coefficient of variation"
      ]
    },
    {
      "cell_type": "code",
      "execution_count": 19,
      "metadata": {
        "colab": {
          "base_uri": "https://localhost:8080/"
        },
        "id": "njrBTRrwwyaS",
        "outputId": "bbe29c9d-48be-4068-a469-6e6b78cee1b0"
      },
      "outputs": [
        {
          "output_type": "stream",
          "name": "stdout",
          "text": [
            "0.45386998894439035\n"
          ]
        }
      ],
      "source": [
        "coefficient_of_variation = standard_deviation / mean\n",
        "print(coefficient_of_variation)"
      ]
    },
    {
      "cell_type": "markdown",
      "metadata": {
        "id": "DPXyRvYfwyaS"
      },
      "source": [
        "### interquartile range"
      ]
    },
    {
      "cell_type": "code",
      "execution_count": 20,
      "metadata": {
        "colab": {
          "base_uri": "https://localhost:8080/"
        },
        "id": "UQoXNpA9wyaS",
        "outputId": "c72855f3-0b5c-4918-c162-94755b41a8b0"
      },
      "outputs": [
        {
          "output_type": "stream",
          "name": "stdout",
          "text": [
            "421750.0\n"
          ]
        }
      ],
      "source": [
        "import statistics\n",
        "interquartile_range = statistics.quantiles(salaries)[2] - statistics.quantiles(salaries)[0]\n",
        "print(interquartile_range)"
      ]
    },
    {
      "cell_type": "markdown",
      "metadata": {
        "id": "lSuMl1AQwyaT"
      },
      "source": [
        "### quartile coefficent of dispersion"
      ]
    },
    {
      "cell_type": "code",
      "execution_count": 21,
      "metadata": {
        "colab": {
          "base_uri": "https://localhost:8080/"
        },
        "id": "nvHglJv7wyaT",
        "outputId": "43535eaf-c1a1-4807-9aa2-e09ae400206a"
      },
      "outputs": [
        {
          "output_type": "stream",
          "name": "stdout",
          "text": [
            "0.34491923941934166\n"
          ]
        }
      ],
      "source": [
        "import statistics\n",
        "quartile_coefficient_of_dispersion = interquartile_range / (statistics.quantiles(salaries)[2] + statistics.quantiles(salaries)[0])\n",
        "print(quartile_coefficient_of_dispersion)"
      ]
    },
    {
      "cell_type": "markdown",
      "metadata": {
        "id": "QA2RMoWLwyaU"
      },
      "source": [
        "## Exercise 7: Scaling data\n",
        "### min-max scaling"
      ]
    },
    {
      "cell_type": "code",
      "execution_count": 24,
      "metadata": {
        "colab": {
          "base_uri": "https://localhost:8080/"
        },
        "id": "noZXqNffwyaU",
        "outputId": "18bc68e3-d01c-4343-948d-cceee8ae033b"
      },
      "outputs": [
        {
          "output_type": "stream",
          "name": "stdout",
          "text": [
            "[0.8472361809045226, 0.7608040201005025, 0.4221105527638191, 0.2592964824120603, 0.5125628140703518, 0.40603015075376886, 0.7869346733668342, 0.3035175879396985, 0.47839195979899496, 0.5849246231155779, 0.9115577889447236, 0.5065326633165829, 0.28241206030150756, 0.7587939698492462, 0.6201005025125628, 0.25125628140703515, 0.91356783919598, 0.9869346733668342, 0.8130653266331658, 0.9055276381909547, 0.31055276381909547, 0.7326633165829146, 0.9025125628140703, 0.6864321608040201, 0.4733668341708543, 0.10050251256281408, 0.43517587939698493, 0.6130653266331658, 0.9165829145728643, 0.9708542713567839, 0.47839195979899496, 0.8683417085427135, 0.26030150753768844, 0.8080402010050252, 0.5507537688442211, 0.01306532663316583, 0.7226130653266332, 0.4, 0.828140703517588, 0.6703517587939698, 0.0, 0.49547738693467336, 0.871356783919598, 0.2442211055276382, 0.3256281407035176, 0.8733668341708543, 0.19095477386934673, 0.5698492462311557, 0.23919597989949748, 0.9718592964824121, 0.8060301507537688, 0.4492462311557789, 0.07939698492462312, 0.32060301507537686, 0.5095477386934674, 0.9366834170854271, 0.10854271356783919, 0.5527638190954773, 0.7095477386934673, 0.5487437185929648, 0.8170854271356784, 0.5417085427135678, 0.9678391959798995, 0.6050251256281407, 0.5899497487437186, 0.4462311557788945, 0.5979899497487438, 0.385929648241206, 0.5778894472361809, 0.2904522613065327, 0.18894472361809045, 0.18693467336683417, 0.6150753768844222, 0.6592964824120603, 0.47839195979899496, 0.08944723618090453, 0.7608040201005025, 0.8804020100502512, 0.9266331658291457, 0.8452261306532663, 0.9015075376884422, 0.9266331658291457, 0.542713567839196, 0.39195979899497485, 0.7075376884422111, 0.27638190954773867, 0.8150753768844221, 0.8522613065326633, 0.8984924623115578, 0.5919597989949749, 0.9537688442211055, 0.5819095477386935, 0.45226130653266333, 0.6623115577889447, 1.0, 0.9206030150753769, 0.7959798994974875, 0.0814070351758794, 0.6150753768844222, 0.48743718592964824]\n"
          ]
        }
      ],
      "source": [
        "minmax_scaled = [(x - min(salaries)) / (max(salaries) - min(salaries)) for x in salaries]\n",
        "print(minmax_scaled)"
      ]
    },
    {
      "cell_type": "markdown",
      "metadata": {
        "id": "9uZoSnf8wyaU"
      },
      "source": [
        "### standardizing"
      ]
    },
    {
      "cell_type": "code",
      "execution_count": 25,
      "metadata": {
        "colab": {
          "base_uri": "https://localhost:8080/"
        },
        "id": "GHpvRmlGwyaU",
        "outputId": "5a1265ea-3e47-4471-c2d2-723ed8a52a78"
      },
      "outputs": [
        {
          "output_type": "stream",
          "name": "stdout",
          "text": [
            "[0.9717217942267801, 0.6482032533127501, -0.6195380058503674, -1.228956652688424, -0.28097209094033604, -0.6797275018343729, 0.7460111842867592, -1.0634355387324086, -0.40887476990634786, -0.010119359012310937, 1.2124797781628023, -0.3035431519343381, -1.142434252211416, 0.6406795663147493, 0.12154516345270126, -1.2590514006804265, 1.220003465160803, 1.4946180405878284, 0.8438191152607681, 1.1899087171688003, -1.037102634239406, 0.5428716353407403, 1.178623186671799, 0.36982683438672426, -0.4276839874013496, -1.8233279255304788, -0.5706340403633628, 0.09521225895969881, 1.2312889956578041, 1.434428544603823, -0.40887476990634786, 1.0507205077057873, -1.2251948091894236, 0.8250098977657664, -0.1380220379783228, -2.150608309943509, 0.5052532003507368, -0.7022985628283751, 0.9002467677457734, 0.3096373384027187, -2.199512275430514, -0.34492343042334195, 1.0620060382027885, -1.285384305173429, -0.9806749817544008, 1.0695297252007891, -1.4847620106204475, -0.06654701149731616, -1.304193522668431, 1.4381903881028233, 0.8174862107677657, -0.517968231377358, -1.9023266390094862, -0.9994841992494026, -0.2922576214373371, 1.3065258656378111, -1.7932331775384762, -0.1304983509803221, 0.4563492348637323, -0.14554572497632348, 0.8588664892567696, -0.17187862946932592, 1.4231430141068218, 0.06511751096769604, 0.008689858482690806, -0.529253761874359, 0.038784606474693596, -0.7549643718143799, -0.03645226350531338, -1.112339504219413, -1.4922856976184482, -1.4998093846164489, 0.10273594595769951, 0.26825705991371485, -0.40887476990634786, -1.8647082040194827, 0.6482032533127501, 1.0958626296937914, 1.2689074306478076, 0.9641981072287793, 1.1748613431727988, 1.2689074306478076, -0.16811678597032556, -0.7323933108203778, 0.4488255478657316, -1.165005313205418, 0.8513428022587689, 0.9905310117217818, 1.1635758126757978, 0.016213545480691503, 1.370477205120817, -0.02140488950931198, -0.5066827008803569, 0.2795425904107159, 1.543522006074833, 1.2463363696538055, 0.7798677757777622, -1.8948029520114855, 0.10273594595769951, -0.37501817841534474]\n"
          ]
        }
      ],
      "source": [
        "standardized = [(x - mean) / standard_deviation for x in salaries]\n",
        "print(standardized)"
      ]
    },
    {
      "cell_type": "markdown",
      "metadata": {
        "id": "iokJFsuxwyaU"
      },
      "source": [
        "## Exercise 8: Calculating covariance and correlation\n",
        "### covariance"
      ]
    },
    {
      "cell_type": "code",
      "execution_count": 26,
      "metadata": {
        "colab": {
          "base_uri": "https://localhost:8080/"
        },
        "id": "yI1vXQAZwyaV",
        "outputId": "90a9d22b-375d-40b8-cd8f-a97010c47f03"
      },
      "outputs": [
        {
          "output_type": "stream",
          "name": "stdout",
          "text": [
            "265827.1138255596\n"
          ]
        }
      ],
      "source": [
        "covariance = sum((x - mean) * (y - mean) for x, y in zip(salaries, standardized)) / (len(salaries) - 1)\n",
        "print(covariance)"
      ]
    },
    {
      "cell_type": "markdown",
      "metadata": {
        "id": "Wq0wZT5_wyaV"
      },
      "source": [
        "### Pearson correlation coefficient ($\\rho$)"
      ]
    },
    {
      "cell_type": "code",
      "execution_count": 27,
      "metadata": {
        "colab": {
          "base_uri": "https://localhost:8080/"
        },
        "id": "D6ARDzlWwyaV",
        "outputId": "e305ebb3-f00d-473c-ddb1-746074564ea9"
      },
      "outputs": [
        {
          "output_type": "stream",
          "name": "stdout",
          "text": [
            "1.0000000000027072\n"
          ]
        }
      ],
      "source": [
        "Pearson_correlation_coefficient = covariance / (standard_deviation * statistics.stdev(standardized))\n",
        "print(Pearson_correlation_coefficient)"
      ]
    }
  ],
  "metadata": {
    "kernelspec": {
      "display_name": "Python 3 (ipykernel)",
      "language": "python",
      "name": "python3"
    },
    "language_info": {
      "codemirror_mode": {
        "name": "ipython",
        "version": 3
      },
      "file_extension": ".py",
      "mimetype": "text/x-python",
      "name": "python",
      "nbconvert_exporter": "python",
      "pygments_lexer": "ipython3",
      "version": "3.9.16"
    },
    "colab": {
      "provenance": []
    }
  },
  "nbformat": 4,
  "nbformat_minor": 0
}